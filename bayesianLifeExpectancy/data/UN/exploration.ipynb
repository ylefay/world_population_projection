{
 "cells": [
  {
   "cell_type": "code",
   "execution_count": 1,
   "metadata": {
    "collapsed": true
   },
   "outputs": [],
   "source": [
    "import pandas as pd"
   ]
  },
  {
   "cell_type": "code",
   "execution_count": 18,
   "outputs": [
    {
     "name": "stderr",
     "output_type": "stream",
     "text": [
      "/tmp/ipykernel_3102/2183858702.py:3: DtypeWarning: Columns (3,11,12,13,14,15,16,17,18,19,20,21,22,23,24,25,26,27,28,29,30,31,32,33,34,35,36,37,38,39,40,41,42,43,44,45,46,47,48,49,50,51,52,53,54,55,56,57,58,59,60,61,62,63,64,65,66,67,68,69,70,71,72,73,74,75,76,77,78,79,80,81,82,83,84,85,86,87,88,89,90,91,92,93,94,95,96,97,98,99,100,101,102,103,104,105,106,107,108,109,110,111) have mixed types. Specify dtype option on import or set low_memory=False.\n",
      "  dataframe = pd.read_csv(FILENAME, encoding='utf_8')\n"
     ]
    }
   ],
   "source": [
    "FILENAME = \"LE_per_country.csv\"\n",
    "\n",
    "dataframe = pd.read_csv(FILENAME, encoding='utf_8')"
   ],
   "metadata": {
    "collapsed": false
   }
  },
  {
   "cell_type": "code",
   "execution_count": 19,
   "outputs": [
    {
     "data": {
      "text/plain": "                          Region    Year    LE\nIndex                                         \n1                          WORLD  1950.0  46.5\n2                          WORLD  1951.0  47.1\n3                          WORLD  1952.0  48.2\n4                          WORLD  1953.0  48.8\n5                          WORLD  1954.0  49.6\n...                          ...     ...   ...\n20520  Wallis and Futuna Islands  2017.0  77.5\n20521  Wallis and Futuna Islands  2018.0  77.9\n20522  Wallis and Futuna Islands  2019.0  79.6\n20523  Wallis and Futuna Islands  2020.0  78.8\n20524  Wallis and Futuna Islands  2021.0  78.4\n\n[20520 rows x 3 columns]",
      "text/html": "<div>\n<style scoped>\n    .dataframe tbody tr th:only-of-type {\n        vertical-align: middle;\n    }\n\n    .dataframe tbody tr th {\n        vertical-align: top;\n    }\n\n    .dataframe thead th {\n        text-align: right;\n    }\n</style>\n<table border=\"1\" class=\"dataframe\">\n  <thead>\n    <tr style=\"text-align: right;\">\n      <th></th>\n      <th>Region</th>\n      <th>Year</th>\n      <th>LE</th>\n    </tr>\n    <tr>\n      <th>Index</th>\n      <th></th>\n      <th></th>\n      <th></th>\n    </tr>\n  </thead>\n  <tbody>\n    <tr>\n      <th>1</th>\n      <td>WORLD</td>\n      <td>1950.0</td>\n      <td>46.5</td>\n    </tr>\n    <tr>\n      <th>2</th>\n      <td>WORLD</td>\n      <td>1951.0</td>\n      <td>47.1</td>\n    </tr>\n    <tr>\n      <th>3</th>\n      <td>WORLD</td>\n      <td>1952.0</td>\n      <td>48.2</td>\n    </tr>\n    <tr>\n      <th>4</th>\n      <td>WORLD</td>\n      <td>1953.0</td>\n      <td>48.8</td>\n    </tr>\n    <tr>\n      <th>5</th>\n      <td>WORLD</td>\n      <td>1954.0</td>\n      <td>49.6</td>\n    </tr>\n    <tr>\n      <th>...</th>\n      <td>...</td>\n      <td>...</td>\n      <td>...</td>\n    </tr>\n    <tr>\n      <th>20520</th>\n      <td>Wallis and Futuna Islands</td>\n      <td>2017.0</td>\n      <td>77.5</td>\n    </tr>\n    <tr>\n      <th>20521</th>\n      <td>Wallis and Futuna Islands</td>\n      <td>2018.0</td>\n      <td>77.9</td>\n    </tr>\n    <tr>\n      <th>20522</th>\n      <td>Wallis and Futuna Islands</td>\n      <td>2019.0</td>\n      <td>79.6</td>\n    </tr>\n    <tr>\n      <th>20523</th>\n      <td>Wallis and Futuna Islands</td>\n      <td>2020.0</td>\n      <td>78.8</td>\n    </tr>\n    <tr>\n      <th>20524</th>\n      <td>Wallis and Futuna Islands</td>\n      <td>2021.0</td>\n      <td>78.4</td>\n    </tr>\n  </tbody>\n</table>\n<p>20520 rows × 3 columns</p>\n</div>"
     },
     "execution_count": 19,
     "metadata": {},
     "output_type": "execute_result"
    }
   ],
   "source": [
    "dataframe"
   ],
   "metadata": {
    "collapsed": false
   }
  },
  {
   "cell_type": "code",
   "execution_count": 36,
   "outputs": [
    {
     "data": {
      "text/plain": "(array([   7.,   18.,  184.,  952., 1991., 2515., 3656., 5344., 4742.,\n        1111.]),\n array([12.  , 19.45, 26.9 , 34.35, 41.8 , 49.25, 56.7 , 64.15, 71.6 ,\n        79.05, 86.5 ]),\n <BarContainer object of 10 artists>)"
     },
     "execution_count": 36,
     "metadata": {},
     "output_type": "execute_result"
    },
    {
     "data": {
      "text/plain": "<Figure size 640x480 with 1 Axes>",
      "image/png": "[encoded data removed]"
     },
     "metadata": {},
     "output_type": "display_data"
    }
   ],
   "source": [
    "import matplotlib.pyplot as plt\n",
    "import numpy as np\n",
    "plt.hist(list(map(lambda x: float(x), list(dataframe['LE']))))\n"
   ],
   "metadata": {
    "collapsed": false
   }
  },
  {
   "cell_type": "code",
   "execution_count": 27,
   "outputs": [
    {
     "data": {
      "text/plain": "array(['46.5', '47.1', '48.2', ..., 79.6, 78.8, 78.4], dtype=object)"
     },
     "execution_count": 27,
     "metadata": {},
     "output_type": "execute_result"
    }
   ],
   "source": [
    "import numpy as np\n",
    "np.array(dataframe['LE'])"
   ],
   "metadata": {
    "collapsed": false
   }
  },
  {
   "cell_type": "code",
   "execution_count": 35,
   "outputs": [
    {
     "data": {
      "text/plain": "[46.5,\n 47.1,\n 48.2,\n 48.8,\n 49.6,\n 50.1,\n 50.6,\n 50.9,\n 51.5,\n 49.3,\n 47.7,\n 50.4,\n 53.1,\n 53.6,\n 54.2,\n 53.9,\n 54.5,\n 54.9,\n 55.5,\n 55.8,\n 56.1,\n 55.9,\n 57.1,\n 57.6,\n 58.0,\n 58.3,\n 58.7,\n 59.4,\n 59.7,\n 60.2,\n 60.6,\n 61.0,\n 61.4,\n 61.6,\n 61.9,\n 62.2,\n 62.8,\n 63.2,\n 63.3,\n 63.8,\n 64.0,\n 64.1,\n 64.3,\n 64.4,\n 64.5,\n 64.9,\n 65.1,\n 65.5,\n 65.7,\n 66.1,\n 66.5,\n 66.8,\n 67.1,\n 67.5,\n 67.8,\n 68.2,\n 68.7,\n 69.1,\n 69.3,\n 69.8,\n 70.1,\n 70.5,\n 70.9,\n 71.2,\n 71.6,\n 71.8,\n 72.1,\n 72.3,\n 72.6,\n 72.8,\n 72.0,\n 71.0,\n 37.5,\n 37.7,\n 38.0,\n 38.5,\n 38.8,\n 39.3,\n 39.6,\n 39.3,\n 39.6,\n 40.7,\n 40.8,\n 41.1,\n 41.6,\n 41.9,\n 42.2,\n 42.4,\n 42.4,\n 42.6,\n 43.1,\n 43.3,\n 43.8,\n 44.2,\n 44.2,\n 45.0,\n 45.2,\n 45.6,\n 46.3,\n 46.8,\n 47.1,\n 47.6,\n 47.9,\n 48.2,\n 48.4,\n 47.6,\n 47.7,\n 48.0,\n 48.2,\n 48.8,\n 48.6,\n 49.3,\n 49.2,\n 48.9,\n 48.8,\n 49.1,\n 47.5,\n 49.5,\n 49.5,\n 49.6,\n 49.3,\n 50.0,\n 50.6,\n 50.8,\n 51.2,\n 51.8,\n 52.3,\n 52.9,\n 53.6,\n 54.2,\n 54.9,\n 55.6,\n 56.3,\n 57.0,\n 57.6,\n 58.1,\n 58.6,\n 59.0,\n 59.5,\n 59.9,\n 60.3,\n 60.7,\n 60.3,\n 59.7,\n 41.6,\n 42.0,\n 42.9,\n 43.5,\n 44.0,\n 44.7,\n 45.1,\n 45.6,\n 45.9,\n 46.6,\n 47.1,\n 47.8,\n 48.3,\n 49.1,\n 50.0,\n 50.4,\n 50.6,\n 51.0,\n 51.6,\n 52.0,\n 52.5,\n 53.4,\n 53.9,\n 54.4,\n 55.2,\n 55.8,\n 55.9,\n 57.2,\n 57.9,\n 58.6,\n 59.1,\n 59.6,\n 59.9,\n 60.5,\n 61.0,\n 61.7,\n 62.7,\n 62.5,\n 61.5,\n 63.9,\n 64.3,\n 65.0,\n 65.0,\n 65.4,\n 66.5,\n 66.4,\n 66.8,\n 67.1,\n 67.0,\n 68.0,\n 68.6,\n 68.9,\n 69.2,\n 69.2,\n 69.3,\n 69.6,\n 70.0,\n 70.4,\n 70.7,\n 71.2,\n 71.4,\n 71.6,\n 71.6,\n 71.7,\n 72.0,\n 72.3,\n 72.5,\n 73.0,\n 73.2,\n 73.4,\n 72.2,\n 72.1,\n 40.9,\n 41.1,\n 41.6,\n 41.8,\n 42.6,\n 43.1,\n 43.6,\n 44.0,\n 44.4,\n 45.0,\n 45.3,\n 45.7,\n 46.0,\n 46.4,\n 46.8,\n 45.9,\n 46.5,\n 46.9,\n 48.3,\n 48.7,\n 48.5,\n 46.1,\n 49.9,\n 50.4,\n 50.9,\n 51.5,\n 52.0,\n 52.5,\n 53.0,\n 53.5,\n 54.1,\n 54.5,\n 55.1,\n 55.6,\n 56.1,\n 56.6,\n 57.2,\n 57.6,\n 58.1,\n 58.5,\n 58.9,\n 59.1,\n 59.7,\n 60.0,\n 60.4,\n 60.8,\n 61.1,\n 61.6,\n 62.1,\n 62.7,\n 63.1,\n 63.5,\n 63.9,\n 64.3,\n 64.7,\n 65.1,\n 65.6,\n 65.8,\n 66.2,\n 66.5,\n 66.9,\n 67.3,\n 67.8,\n 68.3,\n 68.8,\n 69.3,\n 69.8,\n 70.1,\n 70.4,\n 70.6,\n 69.8,\n 67.7,\n 42.8,\n 44.2,\n 46.0,\n 46.8,\n 47.8,\n 48.4,\n 49.0,\n 49.5,\n 50.1,\n 43.9,\n 39.4,\n 45.2,\n 52.3,\n 52.9,\n 53.6,\n 53.5,\n 54.7,\n 55.7,\n 56.1,\n 56.8,\n 57.5,\n 58.4,\n 58.9,\n 59.8,\n 60.5,\n 60.6,\n 61.4,\n 62.5,\n 63.2,\n 63.8,\n 64.3,\n 64.8,\n 65.3,\n 65.7,\n 66.1,\n 66.5,\n 66.9,\n 67.3,\n 67.5,\n 67.9,\n 68.1,\n 68.3,\n 68.8,\n 69.3,\n 69.6,\n 69.8,\n 70.1,\n 70.5,\n 70.9,\n 71.1,\n 71.5,\n 72.1,\n 72.5,\n 72.9,\n 73.0,\n 73.5,\n 73.9,\n 74.1,\n 74.0,\n 74.7,\n 74.9,\n 75.1,\n 75.4,\n 75.7,\n 76.0,\n 76.2,\n 76.4,\n 76.5,\n 76.8,\n 77.0,\n 76.9,\n 76.5,\n 48.6,\n 49.0,\n 49.8,\n 50.4,\n 51.1,\n 51.7,\n 52.3,\n 52.9,\n 53.5,\n 54.1,\n 54.7,\n 55.2,\n 55.7,\n 56.1,\n 56.6,\n 57.1,\n 57.5,\n 57.9,\n 58.2,\n 58.6,\n 58.6,\n 59.5,\n 59.9,\n 60.4,\n 60.9,\n 61.4,\n 61.6,\n 62.2,\n 62.6,\n 62.9,\n 63.3,\n 63.8,\n 64.1,\n 64.7,\n 65.2,\n 65.5,\n 66.1,\n 66.6,\n 67.0,\n 67.4,\n 67.7,\n 68.0,\n 68.4,\n 68.7,\n 69.1,\n 69.4,\n 69.8,\n 70.1,\n 70.4,\n 70.8,\n 71.1,\n 71.4,\n 71.8,\n 71.9,\n 72.3,\n 72.7,\n 72.9,\n 73.0,\n 73.3,\n 73.5,\n 73.2,\n 73.9,\n 74.1,\n 74.4,\n 74.6,\n 74.6,\n 74.6,\n 74.8,\n 74.9,\n 75.1,\n 73.1,\n 72.2,\n 41.8,\n 40.3,\n 43.2,\n 43.9,\n 44.7,\n 45.5,\n 46.1,\n 47.0,\n 47.7,\n 48.4,\n 49.0,\n 49.6,\n 50.1,\n 50.9,\n 51.4,\n 52.2,\n 52.7,\n 53.4,\n 54.0,\n 54.5,\n 55.1,\n 55.6,\n 56.1,\n 56.5,\n 57.2,\n 57.6,\n 58.1,\n 58.6,\n 59.1,\n 59.6,\n 59.9,\n 60.3,\n 60.6,\n 60.9,\n 61.2,\n 61.6,\n 61.7,\n 62.0,\n 62.1,\n 62.4,\n 62.5,\n 62.7,\n 62.9,\n 63.2,\n 63.4,\n 63.6,\n 63.7,\n 63.9,\n 63.5,\n 64.2,\n 64.2,\n 64.3,\n 64.2,\n 64.3,\n 64.3,\n 64.4,\n 64.5,\n 64.6,\n 65.0,\n 65.1,\n 65.4,\n 65.8,\n 65.9,\n 66.1,\n 66.3,\n 66.6,\n 66.7,\n 67.0,\n 67.1,\n 67.3,\n 67.6,\n 67.1,\n 69.0,\n 68.8,\n 69.2,\n 69.8,\n 69.9,\n 70.2,\n 70.2,\n 70.3,\n 70.9,\n 70.5,\n 70.9,\n 71.1,\n 71.0,\n 71.0,\n 70.7,\n 70.9,\n 70.7,\n 71.1,\n 70.8,\n 71.1,\n 70.8,\n 71.5,\n 71.8,\n 72.0,\n 71.9,\n 72.7,\n 72.7,\n 73.2,\n 73.6,\n 74.1,\n 74.3,\n 74.6,\n 74.5,\n 75.2,\n 75.3,\n 75.2,\n 75.7,\n 75.8,\n 76.0,\n 76.0,\n 76.8,\n 77.2,\n 77.3,\n 77.7,\n 77.7,\n 78.0,\n 78.1,\n 78.4,\n 78.9,\n 79.1,\n 79.5,\n 79.8,\n 79.9,\n 80.2,\n 80.5,\n 80.9,\n 81.1,\n 81.1,\n 81.3,\n 81.6,\n 81.9,\n 81.9,\n 82.2,\n 82.4,\n 82.4,\n 82.5,\n 82.7,\n 82.9,\n 83.2,\n 83.0,\n 84.1,\n 84.2,\n 64.0,\n 64.0,\n 65.1,\n 65.6,\n 66.4,\n 66.9,\n 67.6,\n 67.6,\n 68.6,\n 68.6,\n 69.1,\n 69.4,\n 69.2,\n 69.4,\n 70.0,\n 70.0,\n 70.1,\n 70.2,\n 70.0,\n 69.9,\n 70.2,\n 70.4,\n 70.6,\n 70.7,\n 71.0,\n 71.0,\n 71.2,\n 71.5,\n 71.5,\n 71.7,\n 71.7,\n 72.0,\n 72.3,\n 72.3,\n 72.4,\n 72.5,\n 73.1,\n 73.3,\n 73.4,\n 73.5,\n 73.6,\n 73.6,\n 73.5,\n 73.0,\n 73.1,\n 73.2,\n 73.7,\n 74.2,\n 74.5,\n 74.3,\n 74.5,\n 74.7,\n 74.7,\n 74.8,\n 75.3,\n 75.4,\n 76.0,\n 76.3,\n 76.6,\n 77.0,\n 77.2,\n 77.6,\n 77.8,\n 78.0,\n 78.3,\n 78.3,\n 78.6,\n 78.7,\n 78.9,\n 79.2,\n 77.7,\n 77.2,\n 63.5,\n 63.7,\n 64.9,\n 65.5,\n 66.3,\n 66.8,\n 67.5,\n 67.4,\n 68.5,\n 68.5,\n 69.0,\n 69.4,\n 69.2,\n 69.5,\n 70.1,\n 70.0,\n 70.2,\n 70.3,\n 70.2,\n 70.1,\n 70.4,\n 70.7,\n 70.9,\n 71.0,\n 71.3,\n 71.4,\n 71.6,\n 71.9,\n 72.0,\n 72.2,\n 72.1,\n 72.5,\n 72.8,\n 72.8,\n 73.0,\n 73.1,\n 73.7,\n 73.9,\n 73.9,\n 74.1,\n 74.2,\n 74.2,\n 74.2,\n 73.8,\n 73.8,\n 73.9,\n 74.5,\n 74.9,\n 75.2,\n 75.0,\n 75.2,\n 75.5,\n 75.5,\n 75.6,\n 76.1,\n 76.2,\n 76.7,\n 77.1,\n 77.3,\n 77.7,\n 77.9,\n 78.3,\n 78.5,\n 78.7,\n 79.0,\n 79.0,\n 79.3,\n 79.4,\n 79.6,\n 79.8,\n 78.6,\n 78.1,\n 41.3,\n 42.1,\n 43.2,\n 43.9,\n 44.7,\n 45.2,\n 45.8,\n 46.2,\n 46.7,\n 44.1,\n 42.1,\n 45.1,\n 48.5,\n 49.1,\n 49.8,\n 49.5,\n 50.3,\n 50.8,\n 51.6,\n 52.1,\n 52.4,\n 52.1,\n 53.6,\n 54.3,\n 54.7,\n 55.0,\n 55.5,\n 56.3,\n 56.7,\n 57.3,\n 57.8,\n 58.2,\n 58.7,\n 58.9,\n 59.3,\n 59.7,\n 60.2,\n 60.7,\n 60.8,\n 61.4,\n 61.7,\n 61.8,\n 62.1,\n 62.5,\n 62.5,\n 63.0,\n 63.2,\n 63.6,\n 63.8,\n 64.3,\n 64.7,\n 65.1,\n 65.5,\n 65.8,\n 66.1,\n 66.6,\n 67.0,\n 67.3,\n 67.6,\n 68.1,\n 68.4,\n 68.8,\n 69.2,\n 69.6,\n 69.9,\n 70.2,\n 70.5,\n 70.8,\n 71.1,\n 71.3,\n 70.6,\n 69.6,\n 36.8,\n 37.1,\n 37.6,\n 38.0,\n 38.6,\n 39.1,\n 39.4,\n 39.2,\n 39.5,\n 40.6,\n 40.9,\n 41.3,\n 41.8,\n 41.9,\n 42.6,\n 42.6,\n 42.9,\n 43.5,\n 43.9,\n 44.1,\n 42.9,\n 38.3,\n 44.5,\n 45.2,\n 45.1,\n 43.8,\n 44.4,\n 46.2,\n 46.7,\n 47.2,\n 47.6,\n 48.0,\n 48.3,\n 47.3,\n 47.3,\n 47.7,\n 48.4,\n 48.9,\n 48.4,\n 49.9,\n 50.1,\n 49.8,\n 50.2,\n 50.8,\n 49.9,\n 52.2,\n 52.3,\n 53.0,\n 52.9,\n 54.4,\n 55.1,\n 55.6,\n 56.1,\n 56.7,\n 57.2,\n 57.8,\n 58.5,\n 58.9,\n 59.1,\n 60.1,\n 60.5,\n 61.3,\n 61.9,\n 62.4,\n 62.8,\n 63.2,\n 63.8,\n 64.2,\n 64.6,\n 65.0,\n 64.5,\n 64.1,\n 42.0,\n 42.9,\n 44.1,\n 44.7,\n 45.6,\n 46.2,\n 46.7,\n 47.2,\n 47.7,\n 44.6,\n 42.3,\n 45.7,\n 49.6,\n 50.2,\n 50.8,\n 50.6,\n 51.4,\n 52.0,\n 52.8,\n 53.4,\n 54.0,\n 54.5,\n 55.1,\n 55.8,\n 56.3,\n 56.9,\n 57.5,\n 58.0,\n 58.5,\n 59.1,\n 59.6,\n 60.1,\n 60.5,\n 61.0,\n 61.5,\n 61.9,\n 62.4,\n 62.8,\n 63.1,\n 63.5,\n 63.8,\n 64.0,\n 64.3,\n 64.6,\n 64.9,\n 65.1,\n 65.3,\n 65.6,\n 65.9,\n 66.2,\n 66.6,\n 67.0,\n 67.3,\n 67.6,\n 67.9,\n 68.3,\n 68.7,\n 69.0,\n 69.3,\n 69.6,\n 70.0,\n 70.3,\n 70.6,\n 71.0,\n 71.3,\n 71.6,\n 71.9,\n 72.1,\n 72.4,\n 72.6,\n 71.9,\n 70.7,\n 40.3,\n 41.1,\n 42.3,\n 42.9,\n 43.8,\n 44.4,\n 45.0,\n 45.4,\n 45.8,\n 46.5,\n 47.0,\n 47.4,\n 47.8,\n 48.2,\n 48.7,\n 48.1,\n 48.8,\n 49.3,\n 50.1,\n 50.5,\n 50.6,\n 49.8,\n 51.6,\n 52.2,\n 52.7,\n 52.9,\n 53.4,\n 54.3,\n 54.7,\n 55.3,\n 55.7,\n 56.1,\n 56.5,\n 56.8,\n 57.2,\n 57.6,\n 58.1,\n 58.5,\n 58.6,\n 59.3,\n 59.5,\n 59.7,\n 60.0,\n 60.4,\n 60.3,\n 60.9,\n 61.1,\n 61.5,\n 61.7,\n 62.2,\n 62.6,\n 62.9,\n 63.3,\n 63.7,\n 63.9,\n 64.4,\n 64.9,\n 65.2,\n 65.5,\n 66.0,\n 66.3,\n 66.8,\n 67.2,\n 67.6,\n ...]"
     },
     "execution_count": 35,
     "metadata": {},
     "output_type": "execute_result"
    }
   ],
   "source": [],
   "metadata": {
    "collapsed": false
   }
  },
  {
   "cell_type": "code",
   "execution_count": null,
   "outputs": [],
   "source": [],
   "metadata": {
    "collapsed": false
   }
  }
 ],
 "metadata": {
  "kernelspec": {
   "display_name": "Python 3",
   "language": "python",
   "name": "python3"
  },
  "language_info": {
   "codemirror_mode": {
    "name": "ipython",
    "version": 2
   },
   "file_extension": ".py",
   "mimetype": "text/x-python",
   "name": "python",
   "nbconvert_exporter": "python",
   "pygments_lexer": "ipython2",
   "version": "2.7.6"
  }
 },
 "nbformat": 4,
 "nbformat_minor": 0
}
